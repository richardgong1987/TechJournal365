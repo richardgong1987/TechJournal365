{
 "cells": [
  {
   "cell_type": "markdown",
   "id": "ea2c2917-aa2b-4b36-8d8c-80ca57bf86b7",
   "metadata": {},
   "source": [
    "\n",
    "\n",
    "\n",
    "# 1. What is a Sliding Window?\n",
    "A sliding window is a technique used to process a subset (\"window\") of data from a sequence, then \"slide\" that window along the sequence to reuse work and improve efficiency.\n",
    "It’s common in:\n",
    "\n",
    "* Calculating sums/averages over a fixed range\n",
    "\n",
    "* Finding maximum/minimum in a range\n",
    "\n",
    "* String/array substring problems"
   ]
  },
  {
   "cell_type": "code",
   "execution_count": 1,
   "id": "c6778303-615a-4752-840c-c828b24495d7",
   "metadata": {},
   "outputs": [
    {
     "name": "stdout",
     "output_type": "stream",
     "text": [
      "[6, 9, 12, 15]\n"
     ]
    }
   ],
   "source": [
    "def sliding_window_sum(nums, k):\n",
    "    \"\"\"\n",
    "    Calculate sum for each sliding window of size k.\n",
    "    \n",
    "    :param nums: List[int] - input array\n",
    "    :param k: int - window size\n",
    "    :return: List[int] - sums of each window\n",
    "    \"\"\"\n",
    "    if k <= 0 or k > len(nums):\n",
    "        return []\n",
    "\n",
    "    window_sum = sum(nums[:k])  # First window sum\n",
    "    result = [window_sum]\n",
    "\n",
    "    for i in range(k, len(nums)):\n",
    "        window_sum += nums[i] - nums[i - k]  # Slide: add new, remove old\n",
    "        result.append(window_sum)\n",
    "\n",
    "    return result\n",
    "\n",
    "\n",
    "# Example\n",
    "nums = [1, 2, 3, 4, 5, 6]\n",
    "print(sliding_window_sum(nums, 3))\n",
    "# Output: [6, 9, 12, 15]  (windows: [1,2,3], [2,3,4], [3,4,5], [4,5,6])\n"
   ]
  },
  {
   "cell_type": "code",
   "execution_count": 6,
   "id": "fcc2409b-8798-4797-977b-03b02d2bb4d6",
   "metadata": {},
   "outputs": [],
   "source": [
    "def longest_unique_substring(s:str)->int:\n",
    "    longest  = 0\n",
    "    container = {}\n",
    "    left = 0\n",
    "    \n",
    "    for right, char in enumerate(s):\n",
    "        if char in container and container[char]>=left:\n",
    "            left = container[char]+1\n",
    "\n",
    "        container[char] = right\n",
    "        longest = max(longest, right - left +1)    \n",
    "\n",
    "    return longest"
   ]
  },
  {
   "cell_type": "code",
   "execution_count": 7,
   "id": "3c57bbf8-943f-498f-a0ed-2b7c9b54a6cb",
   "metadata": {},
   "outputs": [
    {
     "data": {
      "text/plain": [
       "2"
      ]
     },
     "execution_count": 7,
     "metadata": {},
     "output_type": "execute_result"
    }
   ],
   "source": [
    "longest_unique_substring('abba')"
   ]
  },
  {
   "cell_type": "code",
   "execution_count": 8,
   "id": "bb53c625-b932-4fee-bc1a-69178c012f06",
   "metadata": {},
   "outputs": [
    {
     "data": {
      "text/plain": [
       "5"
      ]
     },
     "execution_count": 8,
     "metadata": {},
     "output_type": "execute_result"
    }
   ],
   "source": [
    "longest_unique_substring('abcdea')\n"
   ]
  }
 ],
 "metadata": {
  "kernelspec": {
   "display_name": "Python 3 (ipykernel)",
   "language": "python",
   "name": "python3"
  },
  "language_info": {
   "codemirror_mode": {
    "name": "ipython",
    "version": 3
   },
   "file_extension": ".py",
   "mimetype": "text/x-python",
   "name": "python",
   "nbconvert_exporter": "python",
   "pygments_lexer": "ipython3",
   "version": "3.13.5"
  }
 },
 "nbformat": 4,
 "nbformat_minor": 5
}
