{
 "cells": [
  {
   "cell_type": "markdown",
   "id": "395e6400-da45-42f3-89f8-821f7252fe4a",
   "metadata": {},
   "source": [
    "# Story\n",
    "\n",
    "Imagine you are in a candy shop.\n",
    "\n",
    "You want to buy candies, but you must pay exactly 6 coins.\n",
    "\n",
    "The shop has candies priced with coins:\n",
    "\n",
    "1-coin candy\n",
    "\n",
    "3-coin candy\n",
    "\n",
    "4-coin candy\n",
    "\n",
    "Now, you want to use the fewest number of candies to reach exactly 6 coins.\n",
    "\n",
    "# Greedy Thinking (Step by Step)\n",
    "\n",
    "Rule: Always pick the biggest candy price that doesn’t go over the total.\n",
    "(This is like taking the “biggest bite” first 🍭)\n",
    "\n",
    "Start with 6 coins.\n",
    "\n",
    "Can I take a 4-coin candy? Yes ✅ (leftover = 2)\n",
    "\n",
    "Now I have 2 coins left.\n",
    "\n",
    "Can I take another 4? No (too big).\n",
    "\n",
    "Can I take a 3? No (too big).\n",
    "\n",
    "Can I take a 1? Yes ✅ (leftover = 1)\n",
    "\n",
    "Now I have 1 coin left.\n",
    "\n",
    "Take another 1-coin candy ✅ (leftover = 0, done!)\n",
    "\n",
    "#Result\n",
    "\n",
    "Candies chosen = [4, 1, 1]\n",
    "\n",
    "Total coins = 6\n",
    "\n",
    "Number of candies = 3 🎉"
   ]
  },
  {
   "cell_type": "code",
   "execution_count": 4,
   "id": "de81dcda-0eed-4f9d-a944-6a446e268c9d",
   "metadata": {},
   "outputs": [
    {
     "name": "stdout",
     "output_type": "stream",
     "text": [
      "[4, 1, 1]\n"
     ]
    }
   ],
   "source": [
    "def greedy(total, candies):\n",
    "    result = []\n",
    "    candies.sort(reverse=True)\n",
    "    for candy in candies:\n",
    "        while total >= candy:\n",
    "            result.append(candy)\n",
    "            total -=candy\n",
    "                        \n",
    "    print(result)\n",
    "greedy(6,[1,3,4])    "
   ]
  },
  {
   "cell_type": "code",
   "execution_count": 5,
   "id": "562170a0-a756-4eb7-b9f3-e97a066f007e",
   "metadata": {},
   "outputs": [
    {
     "name": "stdout",
     "output_type": "stream",
     "text": [
      "dict_values([2, 32, 56])\n"
     ]
    }
   ],
   "source": [
    "cnt = {\"a\":2,\"b\":32, \"c\":56}\n",
    "print(cnt.values())"
   ]
  },
  {
   "cell_type": "code",
   "execution_count": null,
   "id": "69345007-7e8d-44f3-baf2-c642aaf5d612",
   "metadata": {},
   "outputs": [],
   "source": []
  },
  {
   "cell_type": "code",
   "execution_count": null,
   "id": "b16debbe-b580-47cd-a5d5-729185b1497f",
   "metadata": {},
   "outputs": [],
   "source": [
    "class Solution:\n",
    "    def isMatch(self, s: str, p: str) -> bool:\n",
    "        i = j = 0\n",
    "        len_s = len(s)\n",
    "        len_p = len(p)\n",
    "        \n",
    "        while i<len_s and j<len_p:\n",
    "            if p[j] == \"*\":\n",
    "                if i<len_s:\n",
    "                    \n",
    "                    \n",
    "            elif p[j] == \"?\":\n",
    "                pass\n",
    "            elif p[j] == s[i]:\n",
    "                j+=1\n",
    "                i+=1\n",
    "            else:\n",
    "                return False\n",
    "\n",
    "        return i == (len(s) - 1) and j == (len(p) - 1)\n",
    "\n",
    "s = Solution()\n",
    "s.isMatch(s=\"aa\", p=\"*\")"
   ]
  }
 ],
 "metadata": {
  "kernelspec": {
   "display_name": "Python 3 (ipykernel)",
   "language": "python",
   "name": "python3"
  },
  "language_info": {
   "codemirror_mode": {
    "name": "ipython",
    "version": 3
   },
   "file_extension": ".py",
   "mimetype": "text/x-python",
   "name": "python",
   "nbconvert_exporter": "python",
   "pygments_lexer": "ipython3",
   "version": "3.13.1"
  }
 },
 "nbformat": 4,
 "nbformat_minor": 5
}
