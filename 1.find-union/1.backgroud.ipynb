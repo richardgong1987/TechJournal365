{
 "cells": [
  {
   "cell_type": "markdown",
   "id": "b1d4e54e-2e4d-4389-a928-a1ccd68868e7",
   "metadata": {},
   "source": [
    "# Union Find / Disjoint Set Union (DSU),\n",
    "\n",
    "**Union Find**, also known as **Disjoint Set Union (DSU)**, is a data structure used to keep track of elements that are partitioned into a number of **disjoint (non-overlapping) sets**. It supports two main operations efficiently:\n",
    "\n",
    "### ✅ Core Operations\n",
    "\n",
    "1. **Find(x)**:  \n",
    "  Determines the **representative (or root)** of the set that element `x` belongs to. This helps check whether two elements are in the same set.\n",
    "  \n",
    "2. **Union(x, y)**:  \n",
    "  Merges the sets containing `x` and `y` into one set.\n",
    "  \n",
    "\n",
    "---\n",
    "\n",
    "### ✅ Real-World Analogy\n",
    "\n",
    "Imagine a group of people forming **friend circles**. Initially, everyone is alone. As people make friends (`union(x, y)`), their circles merge. To check if two people are in the same circle (`find(x) == find(y)`), we trace their chain of friends.\n",
    "\n",
    "---\n",
    "\n",
    "### ✅ Data Structure Implementation\n",
    "\n",
    "Typically uses an **array** or a **map** to represent the parent of each element. Two optimizations make it very fast:\n",
    "\n",
    "- **Path Compression** (during `find`) — flattens the structure for faster future lookups.\n",
    "  \n",
    "- **Union by Rank / Size** — always attach the smaller tree to the larger one to keep depth shallow."
   ]
  },
  {
   "cell_type": "markdown",
   "id": "67d299c9-cb31-43b8-ad89-3317c2014eb0",
   "metadata": {},
   "source": [
    "# Version one, Based on Array"
   ]
  },
  {
   "cell_type": "code",
   "execution_count": 10,
   "id": "7b469237-6690-4c53-9e33-b5e99f8f6218",
   "metadata": {},
   "outputs": [
    {
     "name": "stdout",
     "output_type": "stream",
     "text": [
      "0\n",
      "0\n",
      "0\n",
      "0\n",
      "4\n",
      "5\n"
     ]
    }
   ],
   "source": [
    "parent_base_array:[int] = []\n",
    "\n",
    "def find(x)->int:\n",
    "    if parent_base_array[x] != x:\n",
    "        parent_base_array[x] = find(parent_base_array[x])\n",
    "    return parent_base_array[x]\n",
    "\n",
    "def union(a:int,b:int):\n",
    "    a_root = find(a)\n",
    "    b_root = find(b)\n",
    "    if a_root != b_root:\n",
    "        parent_base_array[b] = a   # make 'b' follow 'a'\n",
    "        \n",
    "parent_base_array = [i for i in range(7)]\n",
    "\n",
    "union(0,1)\n",
    "union(1,2)\n",
    "union(2,3)\n",
    "\n",
    "print(find(0))\n",
    "print(find(1))\n",
    "print(find(2))\n",
    "print(find(3))\n",
    "print(find(4))\n",
    "print(find(5))"
   ]
  },
  {
   "cell_type": "markdown",
   "id": "07fcd757-9925-4ec5-b60b-ce01a37ab4e6",
   "metadata": {},
   "source": [
    "# Version Two, Dict base"
   ]
  },
  {
   "cell_type": "code",
   "execution_count": 11,
   "id": "09488752-7d1d-4e66-8bf9-c7f2d3da7dd4",
   "metadata": {},
   "outputs": [
    {
     "name": "stdout",
     "output_type": "stream",
     "text": [
      "a\n",
      "a\n",
      "a\n",
      "a\n",
      "e\n"
     ]
    }
   ],
   "source": [
    "parent_dicts = {}\n",
    "\n",
    "def find(x: str)->str:\n",
    "    if x not in parent_dicts:\n",
    "        parent_dicts[x]=x\n",
    "        \n",
    "    if parent_dicts[x] !=x:\n",
    "        parent_dicts[x] = find(parent_dicts[x])\n",
    "        \n",
    "    return parent_dicts[x]\n",
    "\n",
    "def union(a:str, b:str):\n",
    "    root_a = find(a)\n",
    "    root_b = find(b)\n",
    "    if root_a == root_b:\n",
    "        return\n",
    "\n",
    "    parent_dicts[b]=a\n",
    "\n",
    "\n",
    "\n",
    "union('a','b')\n",
    "union('b','c')\n",
    "union('c','d')\n",
    "\n",
    "print(find('a'))\n",
    "print(find('b'))\n",
    "print(find('c'))\n",
    "print(find('d'))\n",
    "print(find('e'))\n",
    "\n"
   ]
  },
  {
   "cell_type": "code",
   "execution_count": 29,
   "id": "d329a62f-84ff-4a2d-9f45-4acbff32d9b8",
   "metadata": {},
   "outputs": [],
   "source": [
    "class UnionFind():\n",
    "    def __init__(self):\n",
    "        self._container = {}\n",
    "        self._count = {}\n",
    "\n",
    "    def is_exist(self, x:int)->bool:\n",
    "        return x in self._container\n",
    "    def size(self,x:int):\n",
    "        return self._count[self.find(x)]\n",
    "        \n",
    "    def find(self,x:int):\n",
    "        if x not in self._container:\n",
    "            self._container[x]=x\n",
    "            self._count[x]=1\n",
    "\n",
    "        if self._container[x] !=x:\n",
    "            self._container[x] = self.find(self._container[x])\n",
    "        \n",
    "        return self._container[x]\n",
    "    \n",
    "    def union(self, a:int, b:int):\n",
    "        root_a = self.find(a)\n",
    "        root_b = self.find(b)\n",
    "\n",
    "        # Case 1. They are already in the same groups.\n",
    "        if root_a == root_b:\n",
    "            return\n",
    "            \n",
    "        # Case 2: adjust the group belonging to\n",
    "\n",
    "        if self._count[a] > self._count[b]:\n",
    "            self._container[b]=a\n",
    "        elif self._count[a] < self._count[b]:\n",
    "            self._container[a]=b\n",
    "        else:\n",
    "            self._container[a] = b\n",
    "            self._count[b]+=1\n",
    "\n",
    "        return self._count[b]\n",
    "\n",
    "        \n"
   ]
  },
  {
   "cell_type": "code",
   "execution_count": null,
   "id": "edb7d2a4-a0ad-49cd-87de-ce60d11a0070",
   "metadata": {},
   "outputs": [],
   "source": []
  },
  {
   "cell_type": "code",
   "execution_count": null,
   "id": "317fc0db-c6de-4d5f-af4d-b37fe4309665",
   "metadata": {},
   "outputs": [],
   "source": []
  },
  {
   "cell_type": "code",
   "execution_count": 23,
   "id": "cc9363a8-d3ea-4c6b-8c19-45a5d096b9ce",
   "metadata": {},
   "outputs": [
    {
     "name": "stdout",
     "output_type": "stream",
     "text": [
      "2\n",
      "2\n"
     ]
    }
   ],
   "source": [
    "uf = UnionFind()\n",
    "uf.union(1, 2)\n",
    "uf.union(2, 3)\n",
    "\n",
    "print(uf.find(2))    # Same root as cherry\n",
    "print(uf.find(3))   # Same root\n"
   ]
  },
  {
   "cell_type": "code",
   "execution_count": 35,
   "id": "67a25df2-6a01-42a5-8201-18a40d3adec7",
   "metadata": {},
   "outputs": [],
   "source": [
    "from typing import List\n",
    "\n",
    "class Solution:\n",
    "    def longestConsecutive(self, nums: List[int]) -> int:\n",
    "        uf = UnionFind()\n",
    "        longest = 0\n",
    "        is_exist = defaultdict\n",
    "        \n",
    "        for num in nums:\n",
    "            \n",
    "            if is_exist[num]:\n",
    "                continue\n",
    "                \n",
    "            if uf.is_exist(num+1):\n",
    "                uf.union(num+1,num)\n",
    "            elif uf.is_exist(num-1):\n",
    "                uf.union(num-1,num)\n",
    "\n",
    "            longest=max(longest,uf.size(num))\n",
    "            is_exist[num] = True\n",
    "        \n",
    "        return longest    \n",
    "            \n",
    "                \n",
    "            "
   ]
  },
  {
   "cell_type": "code",
   "execution_count": null,
   "id": "664fd058-10c9-408f-b219-e641ee0516fe",
   "metadata": {},
   "outputs": [],
   "source": []
  },
  {
   "cell_type": "code",
   "execution_count": null,
   "id": "7a68cb80-51a5-4dec-a4df-385198ae98dd",
   "metadata": {},
   "outputs": [],
   "source": []
  },
  {
   "cell_type": "code",
   "execution_count": 36,
   "id": "aeaf92bc-74c7-41eb-b07f-ce990123267a",
   "metadata": {},
   "outputs": [
    {
     "ename": "NameError",
     "evalue": "name 'defaultdict' is not defined",
     "output_type": "error",
     "traceback": [
      "\u001b[31m---------------------------------------------------------------------------\u001b[39m",
      "\u001b[31mNameError\u001b[39m                                 Traceback (most recent call last)",
      "\u001b[36mCell\u001b[39m\u001b[36m \u001b[39m\u001b[32mIn[36]\u001b[39m\u001b[32m, line 2\u001b[39m\n\u001b[32m      1\u001b[39m solution = Solution()\n\u001b[32m----> \u001b[39m\u001b[32m2\u001b[39m \u001b[43msolution\u001b[49m\u001b[43m.\u001b[49m\u001b[43mlongestConsecutive\u001b[49m\u001b[43m(\u001b[49m\u001b[43m[\u001b[49m\u001b[32;43m100\u001b[39;49m\u001b[43m,\u001b[49m\u001b[32;43m4\u001b[39;49m\u001b[43m,\u001b[49m\u001b[32;43m200\u001b[39;49m\u001b[43m,\u001b[49m\u001b[32;43m1\u001b[39;49m\u001b[43m,\u001b[49m\u001b[32;43m3\u001b[39;49m\u001b[43m,\u001b[49m\u001b[32;43m2\u001b[39;49m\u001b[43m]\u001b[49m\u001b[43m)\u001b[49m\n",
      "\u001b[36mCell\u001b[39m\u001b[36m \u001b[39m\u001b[32mIn[35]\u001b[39m\u001b[32m, line 7\u001b[39m, in \u001b[36mSolution.longestConsecutive\u001b[39m\u001b[34m(self, nums)\u001b[39m\n\u001b[32m      5\u001b[39m uf = UnionFind()\n\u001b[32m      6\u001b[39m longest = \u001b[32m0\u001b[39m\n\u001b[32m----> \u001b[39m\u001b[32m7\u001b[39m is_exist = \u001b[43mdefaultdict\u001b[49m\n\u001b[32m      9\u001b[39m \u001b[38;5;28;01mfor\u001b[39;00m num \u001b[38;5;129;01min\u001b[39;00m nums:\n\u001b[32m     11\u001b[39m     \u001b[38;5;28;01mif\u001b[39;00m is_exist[num]:\n",
      "\u001b[31mNameError\u001b[39m: name 'defaultdict' is not defined"
     ]
    }
   ],
   "source": [
    "solution = Solution()\n",
    "solution.longestConsecutive([100,4,200,1,3,2])"
   ]
  },
  {
   "cell_type": "code",
   "execution_count": null,
   "id": "83932ab6-6948-401b-a9ca-dd8d3f4a6ddf",
   "metadata": {},
   "outputs": [],
   "source": []
  },
  {
   "cell_type": "code",
   "execution_count": null,
   "id": "c36346c1-d35a-4b0c-8045-3f2807dba8ee",
   "metadata": {},
   "outputs": [],
   "source": []
  },
  {
   "cell_type": "code",
   "execution_count": null,
   "id": "ffa2de71-e2ce-4116-8607-bb9fa9272b98",
   "metadata": {},
   "outputs": [],
   "source": []
  },
  {
   "cell_type": "code",
   "execution_count": null,
   "id": "f4a980c5-7945-4393-8299-752fe499c034",
   "metadata": {},
   "outputs": [],
   "source": []
  }
 ],
 "metadata": {
  "kernelspec": {
   "display_name": "Python 3 (ipykernel)",
   "language": "python",
   "name": "python3"
  },
  "language_info": {
   "codemirror_mode": {
    "name": "ipython",
    "version": 3
   },
   "file_extension": ".py",
   "mimetype": "text/x-python",
   "name": "python",
   "nbconvert_exporter": "python",
   "pygments_lexer": "ipython3",
   "version": "3.13.5"
  }
 },
 "nbformat": 4,
 "nbformat_minor": 5
}
