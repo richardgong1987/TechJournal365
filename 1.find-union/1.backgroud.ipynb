{
 "cells": [
  {
   "cell_type": "markdown",
   "id": "b1d4e54e-2e4d-4389-a928-a1ccd68868e7",
   "metadata": {},
   "source": [
    "# Union Find / Disjoint Set Union (DSU),\n",
    "\n",
    "**Union Find**, also known as **Disjoint Set Union (DSU)**, is a data structure used to keep track of elements that are partitioned into a number of **disjoint (non-overlapping) sets**. It supports two main operations efficiently:\n",
    "\n",
    "### ✅ Core Operations\n",
    "\n",
    "1. **Find(x)**:  \n",
    "  Determines the **representative (or root)** of the set that element `x` belongs to. This helps check whether two elements are in the same set.\n",
    "  \n",
    "2. **Union(x, y)**:  \n",
    "  Merges the sets containing `x` and `y` into one set.\n",
    "  \n",
    "\n",
    "---\n",
    "\n",
    "### ✅ Real-World Analogy\n",
    "\n",
    "Imagine a group of people forming **friend circles**. Initially, everyone is alone. As people make friends (`union(x, y)`), their circles merge. To check if two people are in the same circle (`find(x) == find(y)`), we trace their chain of friends.\n",
    "\n",
    "---\n",
    "\n",
    "### ✅ Data Structure Implementation\n",
    "\n",
    "Typically uses an **array** or a **map** to represent the parent of each element. Two optimizations make it very fast:\n",
    "\n",
    "- **Path Compression** (during `find`) — flattens the structure for faster future lookups.\n",
    "  \n",
    "- **Union by Rank / Size** — always attach the smaller tree to the larger one to keep depth shallow."
   ]
  },
  {
   "cell_type": "code",
   "execution_count": null,
   "id": "9b6bb124-11f3-4024-a2d4-61ddba3577cc",
   "metadata": {},
   "outputs": [],
   "source": []
  },
  {
   "cell_type": "markdown",
   "id": "67d299c9-cb31-43b8-ad89-3317c2014eb0",
   "metadata": {},
   "source": [
    "# Version one, Based on Array"
   ]
  },
  {
   "cell_type": "code",
   "execution_count": null,
   "id": "7b469237-6690-4c53-9e33-b5e99f8f6218",
   "metadata": {},
   "outputs": [],
   "source": []
  },
  {
   "cell_type": "code",
   "execution_count": null,
   "id": "73bc91cf-477a-4330-bee0-e02a3ab47365",
   "metadata": {},
   "outputs": [],
   "source": []
  }
 ],
 "metadata": {
  "kernelspec": {
   "display_name": "Python 3 (ipykernel)",
   "language": "python",
   "name": "python3"
  },
  "language_info": {
   "codemirror_mode": {
    "name": "ipython",
    "version": 3
   },
   "file_extension": ".py",
   "mimetype": "text/x-python",
   "name": "python",
   "nbconvert_exporter": "python",
   "pygments_lexer": "ipython3",
   "version": "3.13.5"
  }
 },
 "nbformat": 4,
 "nbformat_minor": 5
}
