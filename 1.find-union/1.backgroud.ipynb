{
 "cells": [
  {
   "cell_type": "markdown",
   "id": "b1d4e54e-2e4d-4389-a928-a1ccd68868e7",
   "metadata": {},
   "source": [
    "# Union Find / Disjoint Set Union (DSU),\n",
    "\n",
    "**Union Find**, also known as **Disjoint Set Union (DSU)**, is a data structure used to keep track of elements that are partitioned into a number of **disjoint (non-overlapping) sets**. It supports two main operations efficiently:\n",
    "\n",
    "### ✅ Core Operations\n",
    "\n",
    "1. **Find(x)**:  \n",
    "  Determines the **representative (or root)** of the set that element `x` belongs to. This helps check whether two elements are in the same set.\n",
    "  \n",
    "2. **Union(x, y)**:  \n",
    "  Merges the sets containing `x` and `y` into one set.\n",
    "  \n",
    "\n",
    "---\n",
    "\n",
    "### ✅ Real-World Analogy\n",
    "\n",
    "Imagine a group of people forming **friend circles**. Initially, everyone is alone. As people make friends (`union(x, y)`), their circles merge. To check if two people are in the same circle (`find(x) == find(y)`), we trace their chain of friends.\n",
    "\n",
    "---\n",
    "\n",
    "### ✅ Data Structure Implementation\n",
    "\n",
    "Typically uses an **array** or a **map** to represent the parent of each element. Two optimizations make it very fast:\n",
    "\n",
    "- **Path Compression** (during `find`) — flattens the structure for faster future lookups.\n",
    "  \n",
    "- **Union by Rank / Size** — always attach the smaller tree to the larger one to keep depth shallow."
   ]
  },
  {
   "cell_type": "code",
   "execution_count": null,
   "id": "8243317b-2bf9-49b8-9ea0-ee9e39dc30ae",
   "metadata": {},
   "outputs": [],
   "source": []
  },
  {
   "cell_type": "markdown",
   "id": "67d299c9-cb31-43b8-ad89-3317c2014eb0",
   "metadata": {},
   "source": [
    "# Version one, Based on Array"
   ]
  },
  {
   "cell_type": "code",
   "execution_count": 9,
   "id": "7b469237-6690-4c53-9e33-b5e99f8f6218",
   "metadata": {},
   "outputs": [
    {
     "name": "stdout",
     "output_type": "stream",
     "text": [
      "0\n",
      "0\n",
      "0\n",
      "0\n",
      "4\n",
      "5\n"
     ]
    }
   ],
   "source": [
    "parent_base_array:[int] = []\n",
    "\n",
    "def find(x)->int:\n",
    "    if parent_base_array[x] != x:\n",
    "        parent_base_array[x] = find(parent_base_array[x])\n",
    "    return parent_base_array[x]\n",
    "\n",
    "def union(a:int,b:int):\n",
    "    a_root = find(a)\n",
    "    b_root = find(b)\n",
    "    if a_root != b_root:\n",
    "        parent_base_array[b] = a   # make 'b' follow 'a'\n",
    "        \n",
    "parent_base_array = [i for i in range(7)]\n",
    "\n",
    "union(0,1)\n",
    "union(1,2)\n",
    "union(2,3)\n",
    "\n",
    "print(find(0))\n",
    "print(find(1))\n",
    "print(find(2))\n",
    "print(find(3))\n",
    "print(find(4))\n",
    "print(find(5))\n",
    "\n",
    "\n",
    "\n",
    "\n",
    "\n",
    "\n"
   ]
  },
  {
   "cell_type": "code",
   "execution_count": null,
   "id": "89e51ee6-282f-49c7-8d91-a7c1a4f1d8f5",
   "metadata": {},
   "outputs": [],
   "source": []
  },
  {
   "cell_type": "code",
   "execution_count": null,
   "id": "22875280-c53e-45ab-b46c-161b0cf73c33",
   "metadata": {},
   "outputs": [],
   "source": []
  }
 ],
 "metadata": {
  "kernelspec": {
   "display_name": "Python 3 (ipykernel)",
   "language": "python",
   "name": "python3"
  },
  "language_info": {
   "codemirror_mode": {
    "name": "ipython",
    "version": 3
   },
   "file_extension": ".py",
   "mimetype": "text/x-python",
   "name": "python",
   "nbconvert_exporter": "python",
   "pygments_lexer": "ipython3",
   "version": "3.13.5"
  }
 },
 "nbformat": 4,
 "nbformat_minor": 5
}
