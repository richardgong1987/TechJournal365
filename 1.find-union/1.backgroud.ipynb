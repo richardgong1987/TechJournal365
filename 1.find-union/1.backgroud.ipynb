{
 "cells": [
  {
   "cell_type": "markdown",
   "id": "b1d4e54e-2e4d-4389-a928-a1ccd68868e7",
   "metadata": {},
   "source": [
    "# Union Find / Disjoint Set Union (DSU),\n",
    "\n",
    "**Union Find**, also known as **Disjoint Set Union (DSU)**, is a data structure used to keep track of elements that are partitioned into a number of **disjoint (non-overlapping) sets**. It supports two main operations efficiently:\n",
    "\n",
    "### ✅ Core Operations\n",
    "\n",
    "1. **Find(x)**:  \n",
    "  Determines the **representative (or root)** of the set that element `x` belongs to. This helps check whether two elements are in the same set.\n",
    "  \n",
    "2. **Union(x, y)**:  \n",
    "  Merges the sets containing `x` and `y` into one set.\n",
    "  \n",
    "\n",
    "---\n",
    "\n",
    "### ✅ Real-World Analogy\n",
    "\n",
    "Imagine a group of people forming **friend circles**. Initially, everyone is alone. As people make friends (`union(x, y)`), their circles merge. To check if two people are in the same circle (`find(x) == find(y)`), we trace their chain of friends.\n",
    "\n",
    "---\n",
    "\n",
    "### ✅ Data Structure Implementation\n",
    "\n",
    "Typically uses an **array** or a **map** to represent the parent of each element. Two optimizations make it very fast:\n",
    "\n",
    "- **Path Compression** (during `find`) — flattens the structure for faster future lookups.\n",
    "  \n",
    "- **Union by Rank / Size** — always attach the smaller tree to the larger one to keep depth shallow."
   ]
  },
  {
   "cell_type": "markdown",
   "id": "67d299c9-cb31-43b8-ad89-3317c2014eb0",
   "metadata": {},
   "source": [
    "# Version one, Based on Array"
   ]
  },
  {
   "cell_type": "code",
   "execution_count": 10,
   "id": "7b469237-6690-4c53-9e33-b5e99f8f6218",
   "metadata": {},
   "outputs": [
    {
     "name": "stdout",
     "output_type": "stream",
     "text": [
      "0\n",
      "0\n",
      "0\n",
      "0\n",
      "4\n",
      "5\n"
     ]
    }
   ],
   "source": [
    "parent_base_array:[int] = []\n",
    "\n",
    "def find(x)->int:\n",
    "    if parent_base_array[x] != x:\n",
    "        parent_base_array[x] = find(parent_base_array[x])\n",
    "    return parent_base_array[x]\n",
    "\n",
    "def union(a:int,b:int):\n",
    "    a_root = find(a)\n",
    "    b_root = find(b)\n",
    "    if a_root != b_root:\n",
    "        parent_base_array[b] = a   # make 'b' follow 'a'\n",
    "        \n",
    "parent_base_array = [i for i in range(7)]\n",
    "\n",
    "union(0,1)\n",
    "union(1,2)\n",
    "union(2,3)\n",
    "\n",
    "print(find(0))\n",
    "print(find(1))\n",
    "print(find(2))\n",
    "print(find(3))\n",
    "print(find(4))\n",
    "print(find(5))"
   ]
  },
  {
   "cell_type": "markdown",
   "id": "07fcd757-9925-4ec5-b60b-ce01a37ab4e6",
   "metadata": {},
   "source": [
    "# Version Two, Dict base"
   ]
  },
  {
   "cell_type": "code",
   "execution_count": 11,
   "id": "09488752-7d1d-4e66-8bf9-c7f2d3da7dd4",
   "metadata": {},
   "outputs": [
    {
     "name": "stdout",
     "output_type": "stream",
     "text": [
      "a\n",
      "a\n",
      "a\n",
      "a\n",
      "e\n"
     ]
    }
   ],
   "source": [
    "parent_dicts = {}\n",
    "\n",
    "def find(x: str)->str:\n",
    "    if x not in parent_dicts:\n",
    "        parent_dicts[x]=x\n",
    "        \n",
    "    if parent_dicts[x] !=x:\n",
    "        parent_dicts[x] = find(parent_dicts[x])\n",
    "        \n",
    "    return parent_dicts[x]\n",
    "\n",
    "def union(a:str, b:str):\n",
    "    root_a = find(a)\n",
    "    root_b = find(b)\n",
    "    if root_a == root_b:\n",
    "        return\n",
    "\n",
    "    parent_dicts[b]=a\n",
    "\n",
    "\n",
    "\n",
    "union('a','b')\n",
    "union('b','c')\n",
    "union('c','d')\n",
    "\n",
    "print(find('a'))\n",
    "print(find('b'))\n",
    "print(find('c'))\n",
    "print(find('d'))\n",
    "print(find('e'))\n",
    "\n"
   ]
  },
  {
   "cell_type": "code",
   "execution_count": 37,
   "id": "d329a62f-84ff-4a2d-9f45-4acbff32d9b8",
   "metadata": {},
   "outputs": [],
   "source": [
    "class UnionFind:\n",
    "    def __init__(self):\n",
    "        self._container = {}\n",
    "        self._size = {}\n",
    "\n",
    "    def find(self, x: int)->int:\n",
    "        # case 1, not exist, assign a init value\n",
    "        if x not in self._container:\n",
    "            self._container[x]=x\n",
    "            self._size[x]=1\n",
    "\n",
    "\n",
    "        # Case 2, path compression\n",
    "        if self._container[x] !=x:\n",
    "            self._container[x] = self.find(self._container[x])\n",
    "\n",
    "        return self._container[x]    \n",
    "\n",
    "    def union(self,a:int, b:int):\n",
    "        root_a= self.find(a)\n",
    "        root_b=self.find(b)\n",
    "\n",
    "        # case 1, if they already in the same group, just skip it\n",
    "        if root_a == root_b:\n",
    "            return\n",
    "     \n",
    "            # Merge element\n",
    "        self._container[root_a]=root_b\n",
    "        self._size[root_b] += self._size[root_a]    \n",
    "\n",
    "    def is_exist(self,x:int):\n",
    "        return x in self._container\n",
    "\n",
    "\n",
    "    def get_size(self, x:int):\n",
    "        return self._size[self.find(x)]"
   ]
  },
  {
   "cell_type": "code",
   "execution_count": 23,
   "id": "cc9363a8-d3ea-4c6b-8c19-45a5d096b9ce",
   "metadata": {},
   "outputs": [
    {
     "name": "stdout",
     "output_type": "stream",
     "text": [
      "2\n",
      "2\n"
     ]
    }
   ],
   "source": [
    "uf = UnionFind()\n",
    "uf.union(1, 2)\n",
    "uf.union(2, 3)\n",
    "\n",
    "print(uf.find(2))    # Same root as cherry\n",
    "print(uf.find(3))   # Same root\n"
   ]
  },
  {
   "cell_type": "code",
   "execution_count": 40,
   "id": "67a25df2-6a01-42a5-8201-18a40d3adec7",
   "metadata": {},
   "outputs": [],
   "source": [
    "from typing import List\n",
    "from collections import defaultdict\n",
    "class Solution:\n",
    "    def longestConsecutive(self, nums: List[int]) -> int:\n",
    "        uf = UnionFind()\n",
    "        longest = 0\n",
    "        is_exist = defaultdict\n",
    "        \n",
    "        for num in nums:\n",
    "            \n",
    "            if is_exist[num]:\n",
    "                continue\n",
    "                \n",
    "            if uf.is_exist(num+1):\n",
    "                uf.union(num+1,num)\n",
    "            elif uf.is_exist(num-1):\n",
    "                uf.union(num-1,num)\n",
    "\n",
    "            longest=max(longest,uf.size(num))\n",
    "            is_exist[num] = True\n",
    "        \n",
    "        return longest    \n",
    "            \n",
    "                \n",
    "            "
   ]
  },
  {
   "cell_type": "code",
   "execution_count": null,
   "id": "566fee19-4e56-4a92-94f3-66f891efac93",
   "metadata": {},
   "outputs": [],
   "source": []
  },
  {
   "cell_type": "code",
   "execution_count": 41,
   "id": "aeaf92bc-74c7-41eb-b07f-ce990123267a",
   "metadata": {},
   "outputs": [
    {
     "data": {
      "text/plain": [
       "0"
      ]
     },
     "execution_count": 41,
     "metadata": {},
     "output_type": "execute_result"
    }
   ],
   "source": [
    "solution = Solution()\n",
    "solution.longestConsecutive([100,4,200,1,3,2])"
   ]
  },
  {
   "cell_type": "code",
   "execution_count": null,
   "id": "c446d9b4-1d03-4999-a6bc-58031be9c482",
   "metadata": {},
   "outputs": [],
   "source": []
  }
 ],
 "metadata": {
  "kernelspec": {
   "display_name": "Python 3 (ipykernel)",
   "language": "python",
   "name": "python3"
  },
  "language_info": {
   "codemirror_mode": {
    "name": "ipython",
    "version": 3
   },
   "file_extension": ".py",
   "mimetype": "text/x-python",
   "name": "python",
   "nbconvert_exporter": "python",
   "pygments_lexer": "ipython3",
   "version": "3.13.5"
  }
 },
 "nbformat": 4,
 "nbformat_minor": 5
}
